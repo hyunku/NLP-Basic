{
  "nbformat": 4,
  "nbformat_minor": 0,
  "metadata": {
    "colab": {
      "provenance": [],
      "toc_visible": true,
      "include_colab_link": true
    },
    "kernelspec": {
      "display_name": "Python 3",
      "language": "python",
      "name": "python3"
    },
    "language_info": {
      "codemirror_mode": {
        "name": "ipython",
        "version": 3
      },
      "file_extension": ".py",
      "mimetype": "text/x-python",
      "name": "python",
      "nbconvert_exporter": "python",
      "pygments_lexer": "ipython3",
      "version": "3.6.9"
    }
  },
  "cells": [
    {
      "cell_type": "markdown",
      "metadata": {
        "id": "view-in-github",
        "colab_type": "text"
      },
      "source": [
        "<a href=\"https://colab.research.google.com/github/hyunku/NLP-Basic/blob/main/11_%ED%85%8D%EC%8A%A4%ED%8A%B8_%EB%8D%B0%EC%9D%B4%ED%84%B0%EC%9D%98%EC%8B%A0%EA%B2%BD%EB%A7%9D%EB%AA%A8%EB%8D%B8%EB%A7%81.ipynb\" target=\"_parent\"><img src=\"https://colab.research.google.com/assets/colab-badge.svg\" alt=\"Open In Colab\"/></a>"
      ]
    },
    {
      "cell_type": "markdown",
      "metadata": {
        "id": "e7sjB1BnR1H1"
      },
      "source": [
        "# 환경설정"
      ]
    },
    {
      "cell_type": "code",
      "metadata": {
        "id": "VntzlNra09ud"
      },
      "source": [
        "# imports\n",
        "import argparse\n",
        "import os\n",
        "import random\n",
        "import shutil\n",
        "import json\n",
        "import zipfile\n",
        "import math\n",
        "import copy\n",
        "import collections\n",
        "import re\n",
        "\n",
        "import matplotlib.pyplot as plt\n",
        "import pandas as pd\n",
        "import numpy as np\n",
        "# import sentencepiece as spm\n",
        "import tensorflow as tf\n",
        "import tensorflow.keras.backend as K\n",
        "\n",
        "from tqdm.notebook import tqdm, trange"
      ],
      "execution_count": null,
      "outputs": []
    },
    {
      "cell_type": "code",
      "metadata": {
        "colab": {
          "base_uri": "https://localhost:8080/"
        },
        "id": "Ut4S5GeJR1H2",
        "outputId": "e4240ea8-1872-4945-deae-a544616ef49d"
      },
      "source": [
        "# 환경 설정\n",
        "args = {\n",
        "    # random seed value\n",
        "    \"seed\": 1234,\n",
        "    # number of vocab : 단어사전의 크기\n",
        "    \"n_vocab\": 32007,\n",
        "    # number of input sequence : 입력 피처 수\n",
        "    \"n_seq\": 67,\n",
        "    # hidden size : 단어 벡터의 깊이, 통상 128, 256 등으로 지정\n",
        "    \"d_model\": 128,\n",
        "    # number of output\n",
        "    \"n_out\": 2\n",
        "}\n",
        "args = argparse.Namespace(**args)\n",
        "\n",
        "print(args)"
      ],
      "execution_count": null,
      "outputs": [
        {
          "output_type": "stream",
          "name": "stdout",
          "text": [
            "Namespace(d_model=128, n_out=2, n_seq=67, n_vocab=32007, seed=1234)\n"
          ]
        }
      ]
    },
    {
      "cell_type": "code",
      "metadata": {
        "id": "ZVLyp7-HR1H3"
      },
      "source": [
        "# random seed 설정\n",
        "random.seed(args.seed)\n",
        "np.random.seed(args.seed)\n",
        "tf.random.set_seed(args.seed)"
      ],
      "execution_count": null,
      "outputs": []
    },
    {
      "cell_type": "markdown",
      "metadata": {
        "id": "bXBYWCWkp5ZM"
      },
      "source": [
        "# 1.Data 준비"
      ]
    },
    {
      "cell_type": "markdown",
      "metadata": {
        "id": "AM7_UYROCiF6"
      },
      "source": [
        "착안 사항 : 데이터 탐색을 통해서 입력 sentece 토큰의 길이를 얼마로 할 것인지 n_seq를 결정"
      ]
    },
    {
      "cell_type": "code",
      "metadata": {
        "id": "G35O6ZBgqURO"
      },
      "source": [
        "# 입력 문장\n",
        "sentences = [\n",
        "    \"신차 정말 좋아요\",\n",
        "    \"신차 속도감 너무 안좋아\",\n",
        "    \"신차 디자인 연비 좋아요\",\n",
        "    \"신차 엉터리로 개발했네요\"\n",
        "]\n",
        "\n",
        "# 출력 정답\n",
        "targets = [1, 0, 1, 0]  # 부정(0), 긍정(1)"
      ],
      "execution_count": null,
      "outputs": []
    },
    {
      "cell_type": "code",
      "metadata": {
        "colab": {
          "base_uri": "https://localhost:8080/",
          "height": 175
        },
        "id": "wVPTi0YFC-t1",
        "outputId": "7dddcfea-481b-4761-cf98-33b8cb6447b3"
      },
      "source": [
        "# 처리할 text 데이터 준비\n",
        "pd.DataFrame(sentences, targets)"
      ],
      "execution_count": null,
      "outputs": [
        {
          "output_type": "execute_result",
          "data": {
            "text/html": [
              "<div>\n",
              "<style scoped>\n",
              "    .dataframe tbody tr th:only-of-type {\n",
              "        vertical-align: middle;\n",
              "    }\n",
              "\n",
              "    .dataframe tbody tr th {\n",
              "        vertical-align: top;\n",
              "    }\n",
              "\n",
              "    .dataframe thead th {\n",
              "        text-align: right;\n",
              "    }\n",
              "</style>\n",
              "<table border=\"1\" class=\"dataframe\">\n",
              "  <thead>\n",
              "    <tr style=\"text-align: right;\">\n",
              "      <th></th>\n",
              "      <th>0</th>\n",
              "    </tr>\n",
              "  </thead>\n",
              "  <tbody>\n",
              "    <tr>\n",
              "      <th>1</th>\n",
              "      <td>신차 정말 좋아요</td>\n",
              "    </tr>\n",
              "    <tr>\n",
              "      <th>0</th>\n",
              "      <td>신차 속도감 너무 안좋아</td>\n",
              "    </tr>\n",
              "    <tr>\n",
              "      <th>1</th>\n",
              "      <td>신차 디자인 연비 좋아요</td>\n",
              "    </tr>\n",
              "    <tr>\n",
              "      <th>0</th>\n",
              "      <td>신차 엉터리로 개발했네요</td>\n",
              "    </tr>\n",
              "  </tbody>\n",
              "</table>\n",
              "</div>"
            ],
            "text/plain": [
              "               0\n",
              "1      신차 정말 좋아요\n",
              "0  신차 속도감 너무 안좋아\n",
              "1  신차 디자인 연비 좋아요\n",
              "0  신차 엉터리로 개발했네요"
            ]
          },
          "metadata": {},
          "execution_count": 60
        }
      ]
    },
    {
      "cell_type": "code",
      "metadata": {
        "id": "38yKlbNnzmGU"
      },
      "source": [
        "id_to_label = {0: \"부정\", 1: \"긍정\"}"
      ],
      "execution_count": null,
      "outputs": []
    },
    {
      "cell_type": "code",
      "metadata": {
        "colab": {
          "base_uri": "https://localhost:8080/"
        },
        "id": "F0gFpQ_Jzz7W",
        "outputId": "efc7c078-c79b-4a72-f8ff-aff51ec545da"
      },
      "source": [
        "train_sentences = sentences[:2]\n",
        "train_targets = targets[:2]\n",
        "\n",
        "train_sentences, train_targets"
      ],
      "execution_count": null,
      "outputs": [
        {
          "output_type": "execute_result",
          "data": {
            "text/plain": [
              "(['신차 정말 좋아요', '신차 속도감 너무 안좋아'], [1, 0])"
            ]
          },
          "metadata": {},
          "execution_count": 62
        }
      ]
    },
    {
      "cell_type": "code",
      "metadata": {
        "colab": {
          "base_uri": "https://localhost:8080/"
        },
        "id": "sXbTfPgz0Fi9",
        "outputId": "d2f10b4a-ec3d-4c8c-c097-7f4355d6ab72"
      },
      "source": [
        "valid_sentences = sentences[2:3]\n",
        "valid_targets = targets[2:3]\n",
        "\n",
        "valid_sentences, valid_targets"
      ],
      "execution_count": null,
      "outputs": [
        {
          "output_type": "execute_result",
          "data": {
            "text/plain": [
              "(['신차 디자인 연비 좋아요'], [1])"
            ]
          },
          "metadata": {},
          "execution_count": 63
        }
      ]
    },
    {
      "cell_type": "code",
      "metadata": {
        "colab": {
          "base_uri": "https://localhost:8080/"
        },
        "id": "BaOXc1Qe0FNR",
        "outputId": "2f98ae5b-c9a8-467a-d757-724ec454f2e8"
      },
      "source": [
        "test_sentences = sentences[3:]\n",
        "test_targets = targets[3:]\n",
        "\n",
        "test_sentences, test_targets"
      ],
      "execution_count": null,
      "outputs": [
        {
          "output_type": "execute_result",
          "data": {
            "text/plain": [
              "(['신차 엉터리로 개발했네요'], [0])"
            ]
          },
          "metadata": {},
          "execution_count": 64
        }
      ]
    },
    {
      "cell_type": "code",
      "metadata": {
        "id": "5s-yLzISD3b4"
      },
      "source": [
        "# 입력 단위 토큰 수\n",
        "args.n_seq = 4"
      ],
      "execution_count": null,
      "outputs": []
    },
    {
      "cell_type": "markdown",
      "metadata": {
        "id": "VrHJDxa9Vcx2"
      },
      "source": [
        "# 2.Vocabulary"
      ]
    },
    {
      "cell_type": "markdown",
      "metadata": {
        "id": "gxqs_z94EG0q"
      },
      "source": [
        "착안사항 : 단어사전을 통해서 n_vocab 사이즈 결정"
      ]
    },
    {
      "cell_type": "code",
      "metadata": {
        "colab": {
          "base_uri": "https://localhost:8080/"
        },
        "id": "ZKS9RqqiVcx2",
        "outputId": "ee5000b4-4313-4e29-e831-a9557f1ebea0"
      },
      "source": [
        "words = []\n",
        "\n",
        "for line in sentences:\n",
        "    for w in line.split():\n",
        "        words.append(w)\n",
        "words"
      ],
      "execution_count": null,
      "outputs": [
        {
          "output_type": "execute_result",
          "data": {
            "text/plain": [
              "['신차',\n",
              " '정말',\n",
              " '좋아요',\n",
              " '신차',\n",
              " '속도감',\n",
              " '너무',\n",
              " '안좋아',\n",
              " '신차',\n",
              " '디자인',\n",
              " '연비',\n",
              " '좋아요',\n",
              " '신차',\n",
              " '엉터리로',\n",
              " '개발했네요']"
            ]
          },
          "metadata": {},
          "execution_count": 66
        }
      ]
    },
    {
      "cell_type": "code",
      "metadata": {
        "colab": {
          "base_uri": "https://localhost:8080/"
        },
        "id": "nzcTMW4iVcx3",
        "outputId": "649745a7-289c-4f9d-9f6f-8914e9626b32"
      },
      "source": [
        "words = list(dict.fromkeys(words))\n",
        "words"
      ],
      "execution_count": null,
      "outputs": [
        {
          "output_type": "execute_result",
          "data": {
            "text/plain": [
              "['신차', '정말', '좋아요', '속도감', '너무', '안좋아', '디자인', '연비', '엉터리로', '개발했네요']"
            ]
          },
          "metadata": {},
          "execution_count": 67
        }
      ]
    },
    {
      "cell_type": "code",
      "metadata": {
        "colab": {
          "base_uri": "https://localhost:8080/"
        },
        "id": "Y_xey2V-Vcx3",
        "outputId": "9e9b3673-aab7-491b-f8c5-8fc121139f2f"
      },
      "source": [
        "word_to_id = {\"[PAD]\": 0, \"[UNK]\": 1}\n",
        "for w in words:\n",
        "    if w not in word_to_id:\n",
        "        word_to_id[w] = len(word_to_id)\n",
        "word_to_id"
      ],
      "execution_count": null,
      "outputs": [
        {
          "output_type": "execute_result",
          "data": {
            "text/plain": [
              "{'[PAD]': 0,\n",
              " '[UNK]': 1,\n",
              " '개발했네요': 11,\n",
              " '너무': 6,\n",
              " '디자인': 8,\n",
              " '속도감': 5,\n",
              " '신차': 2,\n",
              " '안좋아': 7,\n",
              " '엉터리로': 10,\n",
              " '연비': 9,\n",
              " '정말': 3,\n",
              " '좋아요': 4}"
            ]
          },
          "metadata": {},
          "execution_count": 68
        }
      ]
    },
    {
      "cell_type": "code",
      "metadata": {
        "colab": {
          "base_uri": "https://localhost:8080/"
        },
        "id": "ZbXfFYfLVcx4",
        "outputId": "0544608c-d4ef-43fa-b1d7-a83e44e931da"
      },
      "source": [
        "id_to_word = {_id:w for w, _id in word_to_id.items()}\n",
        "id_to_word"
      ],
      "execution_count": null,
      "outputs": [
        {
          "output_type": "execute_result",
          "data": {
            "text/plain": [
              "{0: '[PAD]',\n",
              " 1: '[UNK]',\n",
              " 2: '신차',\n",
              " 3: '정말',\n",
              " 4: '좋아요',\n",
              " 5: '속도감',\n",
              " 6: '너무',\n",
              " 7: '안좋아',\n",
              " 8: '디자인',\n",
              " 9: '연비',\n",
              " 10: '엉터리로',\n",
              " 11: '개발했네요'}"
            ]
          },
          "metadata": {},
          "execution_count": 69
        }
      ]
    },
    {
      "cell_type": "code",
      "metadata": {
        "colab": {
          "base_uri": "https://localhost:8080/"
        },
        "id": "cZsnyN5TVcx5",
        "outputId": "d369959e-725d-4c70-cb2e-3aff01c66f2e"
      },
      "source": [
        "args.n_vocab = len(word_to_id)\n",
        "args"
      ],
      "execution_count": null,
      "outputs": [
        {
          "output_type": "execute_result",
          "data": {
            "text/plain": [
              "Namespace(d_model=128, n_out=2, n_seq=4, n_vocab=12, seed=1234)"
            ]
          },
          "metadata": {},
          "execution_count": 70
        }
      ]
    },
    {
      "cell_type": "markdown",
      "metadata": {
        "id": "8h1uKNAcVcx6"
      },
      "source": [
        "# 3.Train, Valid, Test 데이터 생성"
      ]
    },
    {
      "cell_type": "code",
      "metadata": {
        "id": "xJVWXh5BVcx6"
      },
      "source": [
        "def make_data(sentences, targets, n_seq=4):\n",
        "    inputs, labels = [], []\n",
        "\n",
        "    for sentence, target in zip(sentences, targets):\n",
        "        print(sentence, target)\n",
        "        _input = [word_to_id[w] for w in sentence.split()]\n",
        "        print(_input)\n",
        "        _input = _input[:n_seq]\n",
        "        _input += [0] * (n_seq - len(_input))\n",
        "        print(_input)\n",
        "        inputs.append(_input)\n",
        "\n",
        "        _label = target\n",
        "        labels.append(_label)\n",
        "\n",
        "    inputs = np.array(inputs)\n",
        "    labels = np.array(labels)\n",
        "\n",
        "    return inputs, labels"
      ],
      "execution_count": null,
      "outputs": []
    },
    {
      "cell_type": "code",
      "metadata": {
        "colab": {
          "base_uri": "https://localhost:8080/"
        },
        "id": "FFzj1aU0Vcx6",
        "outputId": "680aee85-a7d6-4d26-b186-a9ce8255cf89"
      },
      "source": [
        "train_inputs, train_labels = make_data(train_sentences, train_targets)\n",
        "train_inputs, train_labels"
      ],
      "execution_count": null,
      "outputs": [
        {
          "output_type": "stream",
          "name": "stdout",
          "text": [
            "신차 정말 좋아요 1\n",
            "[2, 3, 4]\n",
            "[2, 3, 4, 0]\n",
            "신차 속도감 너무 안좋아 0\n",
            "[2, 5, 6, 7]\n",
            "[2, 5, 6, 7]\n"
          ]
        },
        {
          "output_type": "execute_result",
          "data": {
            "text/plain": [
              "(array([[2, 3, 4, 0],\n",
              "        [2, 5, 6, 7]]), array([1, 0]))"
            ]
          },
          "metadata": {},
          "execution_count": 72
        }
      ]
    },
    {
      "cell_type": "code",
      "metadata": {
        "colab": {
          "base_uri": "https://localhost:8080/"
        },
        "id": "hvxNwKgmwJRh",
        "outputId": "8e6e3a38-83b8-405b-e705-ec8ffada086c"
      },
      "source": [
        "train_inputs.shape, train_labels.shape"
      ],
      "execution_count": null,
      "outputs": [
        {
          "output_type": "execute_result",
          "data": {
            "text/plain": [
              "((2, 4), (2,))"
            ]
          },
          "metadata": {},
          "execution_count": 73
        }
      ]
    },
    {
      "cell_type": "code",
      "metadata": {
        "colab": {
          "base_uri": "https://localhost:8080/"
        },
        "id": "gUOWmDHK1MoW",
        "outputId": "88059efb-07cc-4805-87bc-5dbc59b838fb"
      },
      "source": [
        "valid_inputs, valid_labels = make_data(valid_sentences, valid_targets)\n",
        "valid_inputs, valid_labels"
      ],
      "execution_count": null,
      "outputs": [
        {
          "output_type": "stream",
          "name": "stdout",
          "text": [
            "신차 디자인 연비 좋아요 1\n",
            "[2, 8, 9, 4]\n",
            "[2, 8, 9, 4]\n"
          ]
        },
        {
          "output_type": "execute_result",
          "data": {
            "text/plain": [
              "(array([[2, 8, 9, 4]]), array([1]))"
            ]
          },
          "metadata": {},
          "execution_count": 74
        }
      ]
    },
    {
      "cell_type": "code",
      "metadata": {
        "colab": {
          "base_uri": "https://localhost:8080/"
        },
        "id": "O9kDO6Do1Yiv",
        "outputId": "84115f17-ed86-49c6-9669-8f34ef5ce18c"
      },
      "source": [
        "test_inputs, test_labels = make_data(test_sentences, test_targets)\n",
        "test_inputs, test_labels"
      ],
      "execution_count": null,
      "outputs": [
        {
          "output_type": "stream",
          "name": "stdout",
          "text": [
            "신차 엉터리로 개발했네요 0\n",
            "[2, 10, 11]\n",
            "[2, 10, 11, 0]\n"
          ]
        },
        {
          "output_type": "execute_result",
          "data": {
            "text/plain": [
              "(array([[ 2, 10, 11,  0]]), array([0]))"
            ]
          },
          "metadata": {},
          "execution_count": 76
        }
      ]
    },
    {
      "cell_type": "code",
      "metadata": {
        "colab": {
          "base_uri": "https://localhost:8080/"
        },
        "id": "XtE-JOncVcx7",
        "outputId": "81e6704c-4a85-40b0-bac1-2cf99602b0f5"
      },
      "source": [
        "# d_model 단어벡터의 subword 3차원 깊이(통상 128, 256),\n",
        "# n_out 출력변수, n_seq 입력피쳐(하나의 센텐스 입력 토큰수 max), n_vocab 단어사전 길이\n",
        "args.n_seq = 4\n",
        "args.d_model = 5\n",
        "args"
      ],
      "execution_count": null,
      "outputs": [
        {
          "output_type": "execute_result",
          "data": {
            "text/plain": [
              "Namespace(d_model=5, n_out=2, n_seq=4, n_vocab=12, seed=1234)"
            ]
          },
          "metadata": {},
          "execution_count": 77
        }
      ]
    },
    {
      "cell_type": "markdown",
      "metadata": {
        "id": "j6itU4WAVcx7"
      },
      "source": [
        "# 4.Modeling"
      ]
    },
    {
      "cell_type": "code",
      "metadata": {
        "id": "dq9Ak1bSVcx-"
      },
      "source": [
        "def build_model(args):\n",
        "    \"\"\"\n",
        "    동작만 하는 간단한 모델\n",
        "    :param args: input args\n",
        "    \"\"\"\n",
        "    inputs = tf.keras.layers.Input((args.n_seq,))  # (bs, n_seq)\n",
        "    # 가. 입력 단어를 vector로 변환\n",
        "    embedding = tf.keras.layers.Embedding(args.n_vocab, args.d_model)\n",
        "    hidden = embedding(inputs)  # (bs, n_seq, d_model)\n",
        "    ########################################################\n",
        "    # RNN, CNN, Attention, Dense ...\n",
        "    ########################################################\n",
        "    # 나. 문장의 특징 추출\n",
        "    pool = tf.keras.layers.GlobalMaxPooling1D()\n",
        "    hidden = pool(hidden)\n",
        "    # 다. 단어의 vector를 이용해서 정답 확률값 예측\n",
        "    linear = tf.keras.layers.Dense(args.n_out, activation=tf.nn.softmax)\n",
        "    outputs = linear(hidden)  # (bs, n_seq, n_out)\n",
        "    # 라. 학습할 모델 선언\n",
        "    model = tf.keras.Model(inputs=inputs, outputs=outputs)\n",
        "    return model"
      ],
      "execution_count": null,
      "outputs": []
    },
    {
      "cell_type": "code",
      "metadata": {
        "colab": {
          "base_uri": "https://localhost:8080/",
          "height": 422
        },
        "id": "_v39Jk_9Vcx-",
        "outputId": "9e3a419f-079a-4447-ccd7-d5f377ceca80"
      },
      "source": [
        "# 모델 생성\n",
        "model = build_model(args)\n",
        "# 모델 내용 그래프 출력, none 부분은 입력 데이터 수 즉, bach size 로 생각\n",
        "tf.keras.utils.plot_model(model, 'model.png', show_shapes=True)"
      ],
      "execution_count": null,
      "outputs": [
        {
          "output_type": "execute_result",
          "data": {
            "image/png": "[encoded data removed]",
            "text/plain": [
              "<IPython.core.display.Image object>"
            ]
          },
          "metadata": {},
          "execution_count": 79
        }
      ]
    },
    {
      "cell_type": "markdown",
      "metadata": {
        "id": "vrLU6rAE35QI"
      },
      "source": [
        "# 모델링 이해*"
      ]
    },
    {
      "cell_type": "code",
      "metadata": {
        "colab": {
          "base_uri": "https://localhost:8080/"
        },
        "id": "sgzFKbjH-ZzY",
        "outputId": "9b620f1c-5074-4f57-ee3d-b89136a6376a"
      },
      "source": [
        "args"
      ],
      "execution_count": null,
      "outputs": [
        {
          "output_type": "execute_result",
          "data": {
            "text/plain": [
              "Namespace(d_model=5, n_out=2, n_seq=4, n_vocab=12, seed=1234)"
            ]
          },
          "metadata": {},
          "execution_count": 80
        }
      ]
    },
    {
      "cell_type": "code",
      "metadata": {
        "colab": {
          "base_uri": "https://localhost:8080/"
        },
        "id": "nAAyX3Vn34Th",
        "outputId": "ef4b996b-7d3e-4703-bd61-89c2122587a8"
      },
      "source": [
        "# 가. 입력 단어를 vector로 변환\n",
        "embedding = tf.keras.layers.Embedding(args.n_vocab, args.d_model)\n",
        "hidden = embedding(train_inputs)\n",
        "hidden"
      ],
      "execution_count": null,
      "outputs": [
        {
          "output_type": "execute_result",
          "data": {
            "text/plain": [
              "<tf.Tensor: shape=(2, 4, 5), dtype=float32, numpy=\n",
              "array([[[ 0.02343402, -0.01074823,  0.01522658, -0.04609389,\n",
              "         -0.04044588],\n",
              "        [-0.02594056, -0.03957871, -0.04964957,  0.02257201,\n",
              "         -0.0427069 ],\n",
              "        [ 0.00367712,  0.00880659,  0.04546959,  0.04229597,\n",
              "         -0.03289993],\n",
              "        [ 0.04099175,  0.01676757, -0.03006136, -0.01715951,\n",
              "         -0.04548226]],\n",
              "\n",
              "       [[ 0.02343402, -0.01074823,  0.01522658, -0.04609389,\n",
              "         -0.04044588],\n",
              "        [-0.00211576, -0.01116402,  0.00370605,  0.03210983,\n",
              "          0.02358914],\n",
              "        [-0.02757563, -0.03303362,  0.00482216,  0.01016521,\n",
              "          0.00992071],\n",
              "        [-0.01072969, -0.03073211, -0.00534141, -0.03212677,\n",
              "         -0.04059336]]], dtype=float32)>"
            ]
          },
          "metadata": {},
          "execution_count": 82
        }
      ]
    },
    {
      "cell_type": "code",
      "metadata": {
        "colab": {
          "base_uri": "https://localhost:8080/"
        },
        "id": "NKJbG0Ax3B-3",
        "outputId": "066be9b9-4991-4b12-8a94-6c915cb278be"
      },
      "source": [
        "# embedding weight\n",
        "weight = embedding.get_weights()[0]\n",
        "weight"
      ],
      "execution_count": null,
      "outputs": [
        {
          "output_type": "execute_result",
          "data": {
            "text/plain": [
              "array([[ 0.04099175,  0.01676757, -0.03006136, -0.01715951, -0.04548226],\n",
              "       [ 0.00198144,  0.00085689, -0.01210705,  0.00837899, -0.03819635],\n",
              "       [ 0.02343402, -0.01074823,  0.01522658, -0.04609389, -0.04044588],\n",
              "       [-0.02594056, -0.03957871, -0.04964957,  0.02257201, -0.0427069 ],\n",
              "       [ 0.00367712,  0.00880659,  0.04546959,  0.04229597, -0.03289993],\n",
              "       [-0.00211576, -0.01116402,  0.00370605,  0.03210983,  0.02358914],\n",
              "       [-0.02757563, -0.03303362,  0.00482216,  0.01016521,  0.00992071],\n",
              "       [-0.01072969, -0.03073211, -0.00534141, -0.03212677, -0.04059336],\n",
              "       [ 0.01127943,  0.01706804,  0.0463782 ,  0.02282301, -0.04032642],\n",
              "       [-0.01634741, -0.00960571,  0.03382149, -0.01417533, -0.02189262],\n",
              "       [-0.04445437,  0.02946365, -0.04118978,  0.00183915, -0.00601009],\n",
              "       [ 0.03377389, -0.00085101,  0.0233645 ,  0.01131893,  0.03567508]],\n",
              "      dtype=float32)"
            ]
          },
          "metadata": {},
          "execution_count": 83
        }
      ]
    },
    {
      "cell_type": "code",
      "metadata": {
        "colab": {
          "base_uri": "https://localhost:8080/"
        },
        "id": "ARbX1stO4VE_",
        "outputId": "83965321-a6ee-4659-f389-7b8dc07ee5a8"
      },
      "source": [
        "# numpy를 이용해서 직접 조회 (두 결과값 비교)\n",
        "weight[train_inputs], hidden"
      ],
      "execution_count": null,
      "outputs": [
        {
          "output_type": "execute_result",
          "data": {
            "text/plain": [
              "(array([[[ 0.02343402, -0.01074823,  0.01522658, -0.04609389,\n",
              "          -0.04044588],\n",
              "         [-0.02594056, -0.03957871, -0.04964957,  0.02257201,\n",
              "          -0.0427069 ],\n",
              "         [ 0.00367712,  0.00880659,  0.04546959,  0.04229597,\n",
              "          -0.03289993],\n",
              "         [ 0.04099175,  0.01676757, -0.03006136, -0.01715951,\n",
              "          -0.04548226]],\n",
              " \n",
              "        [[ 0.02343402, -0.01074823,  0.01522658, -0.04609389,\n",
              "          -0.04044588],\n",
              "         [-0.00211576, -0.01116402,  0.00370605,  0.03210983,\n",
              "           0.02358914],\n",
              "         [-0.02757563, -0.03303362,  0.00482216,  0.01016521,\n",
              "           0.00992071],\n",
              "         [-0.01072969, -0.03073211, -0.00534141, -0.03212677,\n",
              "          -0.04059336]]], dtype=float32),\n",
              " <tf.Tensor: shape=(2, 4, 5), dtype=float32, numpy=\n",
              " array([[[ 0.02343402, -0.01074823,  0.01522658, -0.04609389,\n",
              "          -0.04044588],\n",
              "         [-0.02594056, -0.03957871, -0.04964957,  0.02257201,\n",
              "          -0.0427069 ],\n",
              "         [ 0.00367712,  0.00880659,  0.04546959,  0.04229597,\n",
              "          -0.03289993],\n",
              "         [ 0.04099175,  0.01676757, -0.03006136, -0.01715951,\n",
              "          -0.04548226]],\n",
              " \n",
              "        [[ 0.02343402, -0.01074823,  0.01522658, -0.04609389,\n",
              "          -0.04044588],\n",
              "         [-0.00211576, -0.01116402,  0.00370605,  0.03210983,\n",
              "           0.02358914],\n",
              "         [-0.02757563, -0.03303362,  0.00482216,  0.01016521,\n",
              "           0.00992071],\n",
              "         [-0.01072969, -0.03073211, -0.00534141, -0.03212677,\n",
              "          -0.04059336]]], dtype=float32)>)"
            ]
          },
          "metadata": {},
          "execution_count": 85
        }
      ]
    },
    {
      "cell_type": "code",
      "metadata": {
        "id": "MW_WyRJy4ZDY"
      },
      "source": [
        "# RNN, CNN, Attention, Linear ...."
      ],
      "execution_count": null,
      "outputs": []
    },
    {
      "cell_type": "code",
      "metadata": {
        "colab": {
          "base_uri": "https://localhost:8080/"
        },
        "id": "o2230KZ-4aOw",
        "outputId": "a1419f3f-a711-431b-bc61-ad3ef72c8f75"
      },
      "source": [
        "# 나. 문장의 특징 추출\n",
        "tf.keras.layers.GlobalAvgPool1D()(hidden)"
      ],
      "execution_count": null,
      "outputs": [
        {
          "output_type": "execute_result",
          "data": {
            "text/plain": [
              "<tf.Tensor: shape=(2, 5), dtype=float32, numpy=\n",
              "array([[ 0.01054058, -0.0061882 , -0.00475369,  0.00040364, -0.04038374],\n",
              "       [-0.00424677, -0.0214195 ,  0.00460334, -0.00898641, -0.01188235]],\n",
              "      dtype=float32)>"
            ]
          },
          "metadata": {},
          "execution_count": 87
        }
      ]
    },
    {
      "cell_type": "code",
      "metadata": {
        "colab": {
          "base_uri": "https://localhost:8080/"
        },
        "id": "38Usp7Il4ena",
        "outputId": "8014a6eb-250b-4f3e-abdb-888f0b73f5ea"
      },
      "source": [
        "hidden = tf.keras.layers.GlobalMaxPooling1D()(hidden)\n",
        "hidden"
      ],
      "execution_count": null,
      "outputs": [
        {
          "output_type": "execute_result",
          "data": {
            "text/plain": [
              "<tf.Tensor: shape=(2, 5), dtype=float32, numpy=\n",
              "array([[ 0.04099175,  0.01676757,  0.04546959,  0.04229597, -0.03289993],\n",
              "       [ 0.02343402, -0.01074823,  0.01522658,  0.03210983,  0.02358914]],\n",
              "      dtype=float32)>"
            ]
          },
          "metadata": {},
          "execution_count": 88
        }
      ]
    },
    {
      "cell_type": "code",
      "metadata": {
        "colab": {
          "base_uri": "https://localhost:8080/"
        },
        "id": "sPqKadfz4iLq",
        "outputId": "d74ac7ea-86c1-485e-8fc5-372124c3c27f"
      },
      "source": [
        "# 다. 단어의 vector를 이용해서 입력 배치 순서대로 부정(0), 긍정(1) 확률값 예측\n",
        "linear = tf.keras.layers.Dense(args.n_out, activation=tf.nn.softmax)\n",
        "outputs = linear(hidden)\n",
        "outputs"
      ],
      "execution_count": null,
      "outputs": [
        {
          "output_type": "execute_result",
          "data": {
            "text/plain": [
              "<tf.Tensor: shape=(2, 2), dtype=float32, numpy=\n",
              "array([[0.49034676, 0.50965333],\n",
              "       [0.5097798 , 0.49022016]], dtype=float32)>"
            ]
          },
          "metadata": {},
          "execution_count": 90
        }
      ]
    },
    {
      "cell_type": "code",
      "metadata": {
        "colab": {
          "base_uri": "https://localhost:8080/"
        },
        "id": "iRUMp2mp4mZ4",
        "outputId": "e797e454-e8a9-450c-a5cd-70f591ff5bfb"
      },
      "source": [
        "# dense의 wieght, bias\n",
        "weight, bias = linear.get_weights()\n",
        "weight, bias"
      ],
      "execution_count": null,
      "outputs": [
        {
          "output_type": "execute_result",
          "data": {
            "text/plain": [
              "(array([[-0.22571641,  0.857623  ],\n",
              "        [ 0.6194329 ,  0.8476044 ],\n",
              "        [-0.5293407 , -0.21758175],\n",
              "        [ 0.7448901 , -0.5983155 ],\n",
              "        [ 0.81381285, -0.18985927]], dtype=float32),\n",
              " array([0., 0.], dtype=float32))"
            ]
          },
          "metadata": {},
          "execution_count": 92
        }
      ]
    },
    {
      "cell_type": "code",
      "metadata": {
        "colab": {
          "base_uri": "https://localhost:8080/"
        },
        "id": "W_an6fwR4pVG",
        "outputId": "382c27a1-3964-45e0-ddff-3f030208131f"
      },
      "source": [
        "# numpy를 이용한 Wx + b\n",
        "logits = np.matmul(hidden, weight) + bias\n",
        "logits"
      ],
      "execution_count": null,
      "outputs": [
        {
          "output_type": "execute_result",
          "data": {
            "text/plain": [
              "array([[-0.01820358,  0.0204144 ],\n",
              "       [ 0.02310814, -0.01601614]], dtype=float32)"
            ]
          },
          "metadata": {},
          "execution_count": 93
        }
      ]
    },
    {
      "cell_type": "code",
      "metadata": {
        "colab": {
          "base_uri": "https://localhost:8080/"
        },
        "id": "io6iO-1t4r6Z",
        "outputId": "e8c9d2c6-1f86-442e-fe61-58dbafbc8e07"
      },
      "source": [
        "# softmax 계산을 위한 준비 exp(x') / sum(exp(x))\n",
        "numerator = np.exp(logits)\n",
        "denominator = np.sum(numerator, axis=1, keepdims=True)\n",
        "numerator, denominator"
      ],
      "execution_count": null,
      "outputs": [
        {
          "output_type": "execute_result",
          "data": {
            "text/plain": [
              "(array([[0.98196113, 1.0206242 ],\n",
              "        [1.0233772 , 0.98411137]], dtype=float32), array([[2.0025854],\n",
              "        [2.0074885]], dtype=float32))"
            ]
          },
          "metadata": {},
          "execution_count": 94
        }
      ]
    },
    {
      "cell_type": "code",
      "metadata": {
        "colab": {
          "base_uri": "https://localhost:8080/"
        },
        "id": "O0eqlTTz4tPY",
        "outputId": "81f5cf3e-1c29-48cb-817e-d0330b3982f4"
      },
      "source": [
        "# 두 결과값 비교\n",
        "probs = numerator / denominator\n",
        "probs, outputs"
      ],
      "execution_count": null,
      "outputs": [
        {
          "output_type": "execute_result",
          "data": {
            "text/plain": [
              "(array([[0.4903467, 0.5096533],\n",
              "        [0.5097799, 0.4902202]], dtype=float32),\n",
              " <tf.Tensor: shape=(2, 2), dtype=float32, numpy=\n",
              " array([[0.49034676, 0.50965333],\n",
              "        [0.5097798 , 0.49022016]], dtype=float32)>)"
            ]
          },
          "metadata": {},
          "execution_count": 95
        }
      ]
    },
    {
      "cell_type": "markdown",
      "metadata": {
        "id": "wG3Njw0JVcx_"
      },
      "source": [
        "# 5.Train"
      ]
    },
    {
      "cell_type": "code",
      "metadata": {
        "colab": {
          "base_uri": "https://localhost:8080/",
          "height": 422
        },
        "id": "6MNX_ju4Vcx_",
        "outputId": "c8c626a0-352b-428c-f955-0b344815748d"
      },
      "source": [
        "model = build_model(args)\n",
        "tf.keras.utils.plot_model(model, 'model.png', show_shapes=True)"
      ],
      "execution_count": null,
      "outputs": [
        {
          "output_type": "execute_result",
          "data": {
            "image/png": "[encoded data removed]",
            "text/plain": [
              "<IPython.core.display.Image object>"
            ]
          },
          "metadata": {},
          "execution_count": 96
        }
      ]
    },
    {
      "cell_type": "code",
      "metadata": {
        "id": "qgOXtZeOVcx_"
      },
      "source": [
        "# 모델 loss, optimizer, metric 정의\n",
        "model.compile(loss='sparse_categorical_crossentropy', optimizer='adam', metrics=['accuracy'])"
      ],
      "execution_count": null,
      "outputs": []
    },
    {
      "cell_type": "code",
      "metadata": {
        "id": "AMiIwPrVVcx_"
      },
      "source": [
        "early_stopping = tf.keras.callbacks.EarlyStopping(monitor='val_accuracy', patience=20)\n",
        "save_weights = tf.keras.callbacks.ModelCheckpoint(\"sentence_calss.hdf5\",\n",
        "                                                  monitor='val_accuracy',\n",
        "                                                  verbose=1,\n",
        "                                                  save_best_only=True,\n",
        "                                                  mode=\"max\",\n",
        "                                                  save_freq=\"epoch\",\n",
        "                                                  save_weights_only=True)\n",
        "csv_logger = tf.keras.callbacks.CSVLogger(\"sentence_calss.csv\")"
      ],
      "execution_count": null,
      "outputs": []
    },
    {
      "cell_type": "code",
      "metadata": {
        "colab": {
          "base_uri": "https://localhost:8080/"
        },
        "id": "s0seHxpnVcyA",
        "outputId": "4f0f97e7-4221-4b1b-b227-23eeedb8f829"
      },
      "source": [
        "# 모델 학습\n",
        "history = model.fit(train_inputs, train_labels,\n",
        "                    epochs=100,\n",
        "                    batch_size=16,\n",
        "                    validation_data=(valid_inputs, valid_labels),\n",
        "                    callbacks=[early_stopping, save_weights, csv_logger])"
      ],
      "execution_count": null,
      "outputs": [
        {
          "output_type": "stream",
          "name": "stdout",
          "text": [
            "Epoch 1/100\n",
            "1/1 [==============================] - ETA: 0s - loss: 0.6954 - accuracy: 0.5000\n",
            "Epoch 00001: val_accuracy improved from -inf to 1.00000, saving model to sentence_calss.hdf5\n",
            "1/1 [==============================] - 1s 555ms/step - loss: 0.6954 - accuracy: 0.5000 - val_loss: 0.6836 - val_accuracy: 1.0000\n",
            "Epoch 2/100\n",
            "1/1 [==============================] - ETA: 0s - loss: 0.6937 - accuracy: 0.5000\n",
            "Epoch 00002: val_accuracy did not improve from 1.00000\n",
            "1/1 [==============================] - 0s 30ms/step - loss: 0.6937 - accuracy: 0.5000 - val_loss: 0.6848 - val_accuracy: 1.0000\n",
            "Epoch 3/100\n",
            "1/1 [==============================] - ETA: 0s - loss: 0.6921 - accuracy: 0.5000\n",
            "Epoch 00003: val_accuracy did not improve from 1.00000\n",
            "1/1 [==============================] - 0s 26ms/step - loss: 0.6921 - accuracy: 0.5000 - val_loss: 0.6860 - val_accuracy: 1.0000\n",
            "Epoch 4/100\n",
            "1/1 [==============================] - ETA: 0s - loss: 0.6905 - accuracy: 0.5000\n",
            "Epoch 00004: val_accuracy did not improve from 1.00000\n",
            "1/1 [==============================] - 0s 26ms/step - loss: 0.6905 - accuracy: 0.5000 - val_loss: 0.6871 - val_accuracy: 1.0000\n",
            "Epoch 5/100\n",
            "1/1 [==============================] - ETA: 0s - loss: 0.6889 - accuracy: 0.5000\n",
            "Epoch 00005: val_accuracy did not improve from 1.00000\n",
            "1/1 [==============================] - 0s 24ms/step - loss: 0.6889 - accuracy: 0.5000 - val_loss: 0.6882 - val_accuracy: 1.0000\n",
            "Epoch 6/100\n",
            "1/1 [==============================] - ETA: 0s - loss: 0.6873 - accuracy: 0.5000\n",
            "Epoch 00006: val_accuracy did not improve from 1.00000\n",
            "1/1 [==============================] - 0s 24ms/step - loss: 0.6873 - accuracy: 0.5000 - val_loss: 0.6893 - val_accuracy: 1.0000\n",
            "Epoch 7/100\n",
            "1/1 [==============================] - ETA: 0s - loss: 0.6857 - accuracy: 0.5000\n",
            "Epoch 00007: val_accuracy did not improve from 1.00000\n",
            "1/1 [==============================] - 0s 27ms/step - loss: 0.6857 - accuracy: 0.5000 - val_loss: 0.6903 - val_accuracy: 1.0000\n",
            "Epoch 8/100\n",
            "1/1 [==============================] - ETA: 0s - loss: 0.6841 - accuracy: 1.0000\n",
            "Epoch 00008: val_accuracy did not improve from 1.00000\n",
            "1/1 [==============================] - 0s 25ms/step - loss: 0.6841 - accuracy: 1.0000 - val_loss: 0.6914 - val_accuracy: 1.0000\n",
            "Epoch 9/100\n",
            "1/1 [==============================] - ETA: 0s - loss: 0.6825 - accuracy: 1.0000\n",
            "Epoch 00009: val_accuracy did not improve from 1.00000\n",
            "1/1 [==============================] - 0s 29ms/step - loss: 0.6825 - accuracy: 1.0000 - val_loss: 0.6924 - val_accuracy: 1.0000\n",
            "Epoch 10/100\n",
            "1/1 [==============================] - ETA: 0s - loss: 0.6809 - accuracy: 1.0000\n",
            "Epoch 00010: val_accuracy did not improve from 1.00000\n",
            "1/1 [==============================] - 0s 28ms/step - loss: 0.6809 - accuracy: 1.0000 - val_loss: 0.6933 - val_accuracy: 0.0000e+00\n",
            "Epoch 11/100\n",
            "1/1 [==============================] - ETA: 0s - loss: 0.6793 - accuracy: 1.0000\n",
            "Epoch 00011: val_accuracy did not improve from 1.00000\n",
            "1/1 [==============================] - 0s 26ms/step - loss: 0.6793 - accuracy: 1.0000 - val_loss: 0.6942 - val_accuracy: 0.0000e+00\n",
            "Epoch 12/100\n",
            "1/1 [==============================] - ETA: 0s - loss: 0.6777 - accuracy: 1.0000\n",
            "Epoch 00012: val_accuracy did not improve from 1.00000\n",
            "1/1 [==============================] - 0s 26ms/step - loss: 0.6777 - accuracy: 1.0000 - val_loss: 0.6951 - val_accuracy: 0.0000e+00\n",
            "Epoch 13/100\n",
            "1/1 [==============================] - ETA: 0s - loss: 0.6761 - accuracy: 1.0000\n",
            "Epoch 00013: val_accuracy did not improve from 1.00000\n",
            "1/1 [==============================] - 0s 31ms/step - loss: 0.6761 - accuracy: 1.0000 - val_loss: 0.6959 - val_accuracy: 0.0000e+00\n",
            "Epoch 14/100\n",
            "1/1 [==============================] - ETA: 0s - loss: 0.6745 - accuracy: 1.0000\n",
            "Epoch 00014: val_accuracy did not improve from 1.00000\n",
            "1/1 [==============================] - 0s 26ms/step - loss: 0.6745 - accuracy: 1.0000 - val_loss: 0.6967 - val_accuracy: 0.0000e+00\n",
            "Epoch 15/100\n",
            "1/1 [==============================] - ETA: 0s - loss: 0.6729 - accuracy: 1.0000\n",
            "Epoch 00015: val_accuracy did not improve from 1.00000\n",
            "1/1 [==============================] - 0s 28ms/step - loss: 0.6729 - accuracy: 1.0000 - val_loss: 0.6974 - val_accuracy: 0.0000e+00\n",
            "Epoch 16/100\n",
            "1/1 [==============================] - ETA: 0s - loss: 0.6712 - accuracy: 1.0000\n",
            "Epoch 00016: val_accuracy did not improve from 1.00000\n",
            "1/1 [==============================] - 0s 27ms/step - loss: 0.6712 - accuracy: 1.0000 - val_loss: 0.6981 - val_accuracy: 0.0000e+00\n",
            "Epoch 17/100\n",
            "1/1 [==============================] - ETA: 0s - loss: 0.6696 - accuracy: 1.0000\n",
            "Epoch 00017: val_accuracy did not improve from 1.00000\n",
            "1/1 [==============================] - 0s 28ms/step - loss: 0.6696 - accuracy: 1.0000 - val_loss: 0.6987 - val_accuracy: 0.0000e+00\n",
            "Epoch 18/100\n",
            "1/1 [==============================] - ETA: 0s - loss: 0.6680 - accuracy: 1.0000\n",
            "Epoch 00018: val_accuracy did not improve from 1.00000\n",
            "1/1 [==============================] - 0s 31ms/step - loss: 0.6680 - accuracy: 1.0000 - val_loss: 0.6992 - val_accuracy: 0.0000e+00\n",
            "Epoch 19/100\n",
            "1/1 [==============================] - ETA: 0s - loss: 0.6663 - accuracy: 1.0000\n",
            "Epoch 00019: val_accuracy did not improve from 1.00000\n",
            "1/1 [==============================] - 0s 25ms/step - loss: 0.6663 - accuracy: 1.0000 - val_loss: 0.6996 - val_accuracy: 0.0000e+00\n",
            "Epoch 20/100\n",
            "1/1 [==============================] - ETA: 0s - loss: 0.6647 - accuracy: 1.0000\n",
            "Epoch 00020: val_accuracy did not improve from 1.00000\n",
            "1/1 [==============================] - 0s 26ms/step - loss: 0.6647 - accuracy: 1.0000 - val_loss: 0.7000 - val_accuracy: 0.0000e+00\n",
            "Epoch 21/100\n",
            "1/1 [==============================] - ETA: 0s - loss: 0.6631 - accuracy: 1.0000\n",
            "Epoch 00021: val_accuracy did not improve from 1.00000\n",
            "1/1 [==============================] - 0s 29ms/step - loss: 0.6631 - accuracy: 1.0000 - val_loss: 0.7004 - val_accuracy: 0.0000e+00\n"
          ]
        }
      ]
    },
    {
      "cell_type": "code",
      "metadata": {
        "colab": {
          "base_uri": "https://localhost:8080/",
          "height": 279
        },
        "id": "DfP_XNNdVcyA",
        "outputId": "c068de4b-b9f9-4773-9430-360338d2e4df"
      },
      "source": [
        "plt.figure(figsize=(12, 4))\n",
        "\n",
        "plt.subplot(1, 2, 1)\n",
        "plt.plot(history.history['loss'], 'b-', label='loss')\n",
        "plt.plot(history.history['val_loss'], 'r--', label='val_loss')\n",
        "plt.xlabel('Epoch')\n",
        "plt.legend()\n",
        "\n",
        "plt.subplot(1, 2, 2)\n",
        "plt.plot(history.history['accuracy'], 'b-', label='acc')\n",
        "plt.plot(history.history['val_accuracy'], 'r--', label='val_acc')\n",
        "plt.xlabel('Epoch')\n",
        "plt.legend()\n",
        "\n",
        "plt.show()"
      ],
      "execution_count": null,
      "outputs": [
        {
          "output_type": "display_data",
          "data": {
            "image/png": "[encoded data removed]",
            "text/plain": [
              "<Figure size 864x288 with 2 Axes>"
            ]
          },
          "metadata": {
            "needs_background": "light"
          }
        }
      ]
    },
    {
      "cell_type": "markdown",
      "metadata": {
        "id": "yu_T_llJVcyA"
      },
      "source": [
        "# 6.평가"
      ]
    },
    {
      "cell_type": "code",
      "metadata": {
        "id": "A6BgXwgnVcyA"
      },
      "source": [
        "model = build_model(args)\n",
        "model.load_weights(\"sentence_calss.hdf5\")"
      ],
      "execution_count": null,
      "outputs": []
    },
    {
      "cell_type": "code",
      "metadata": {
        "id": "JnGzVb64VcyB"
      },
      "source": [
        "model.compile(loss=\"sparse_categorical_crossentropy\", optimizer=\"adam\", metrics=[\"accuracy\"])"
      ],
      "execution_count": null,
      "outputs": []
    },
    {
      "cell_type": "code",
      "metadata": {
        "colab": {
          "base_uri": "https://localhost:8080/"
        },
        "id": "eX3S85P_VcyB",
        "outputId": "085254e2-22b1-471c-ef6f-c0b7bde4aeb2"
      },
      "source": [
        "# 모델 평가\n",
        "model.evaluate(test_inputs, test_labels)"
      ],
      "execution_count": null,
      "outputs": [
        {
          "output_type": "stream",
          "name": "stdout",
          "text": [
            "1/1 [==============================] - 0s 202ms/step - loss: 0.7256 - accuracy: 0.0000e+00\n"
          ]
        },
        {
          "output_type": "execute_result",
          "data": {
            "text/plain": [
              "[0.725557804107666, 0.0]"
            ]
          },
          "metadata": {},
          "execution_count": 104
        }
      ]
    },
    {
      "cell_type": "markdown",
      "metadata": {
        "id": "afJQihkoVcyB"
      },
      "source": [
        "# 7.배포"
      ]
    },
    {
      "cell_type": "code",
      "metadata": {
        "id": "TSN2iFJZVcyB"
      },
      "source": [
        "model = build_model(args)\n",
        "model.load_weights(\"sentence_calss.hdf5\")"
      ],
      "execution_count": null,
      "outputs": []
    },
    {
      "cell_type": "code",
      "metadata": {
        "id": "TXCJGOhpVcyB"
      },
      "source": [
        "# 추론할 입력\n",
        "string = '신차 정말 디자인 엉터리로'"
      ],
      "execution_count": null,
      "outputs": []
    },
    {
      "cell_type": "code",
      "metadata": {
        "colab": {
          "base_uri": "https://localhost:8080/"
        },
        "id": "t0nGtYUXVcyB",
        "outputId": "6564c534-46ac-4903-9ee9-fd719c73638e"
      },
      "source": [
        "# 입력을 숫자로 변경\n",
        "infer_input = [word_to_id[word] for word in string.split()]\n",
        "infer_input"
      ],
      "execution_count": null,
      "outputs": [
        {
          "output_type": "execute_result",
          "data": {
            "text/plain": [
              "[2, 3, 8, 10]"
            ]
          },
          "metadata": {},
          "execution_count": 107
        }
      ]
    },
    {
      "cell_type": "code",
      "metadata": {
        "colab": {
          "base_uri": "https://localhost:8080/"
        },
        "id": "IKlNGBM7VcyC",
        "outputId": "5938d211-2323-40a9-8ba0-576195d70c11"
      },
      "source": [
        "# numpy array 변환\n",
        "infer_inputs = np.array([infer_input])\n",
        "infer_inputs"
      ],
      "execution_count": null,
      "outputs": [
        {
          "output_type": "execute_result",
          "data": {
            "text/plain": [
              "array([[ 2,  3,  8, 10]])"
            ]
          },
          "metadata": {},
          "execution_count": 108
        }
      ]
    },
    {
      "cell_type": "code",
      "metadata": {
        "colab": {
          "base_uri": "https://localhost:8080/"
        },
        "id": "pngV4uTWVcyC",
        "outputId": "b0798b9d-1971-493f-980b-afa63ea0e8f4"
      },
      "source": [
        "# 부정(0), 긍정(1) 추론\n",
        "y_preds = model.predict(infer_inputs)\n",
        "y_preds"
      ],
      "execution_count": null,
      "outputs": [
        {
          "output_type": "execute_result",
          "data": {
            "text/plain": [
              "array([[0.5020876 , 0.49791244]], dtype=float32)"
            ]
          },
          "metadata": {},
          "execution_count": 109
        }
      ]
    },
    {
      "cell_type": "code",
      "metadata": {
        "colab": {
          "base_uri": "https://localhost:8080/"
        },
        "id": "gFnPRzldVcyC",
        "outputId": "650a04b4-b4a6-411c-c3b1-a76944b6b7bf"
      },
      "source": [
        "# 확률의 max 값을 추론 값으로 결정\n",
        "y_pred_class = np.argmax(y_preds, axis=1)\n",
        "y_pred_class"
      ],
      "execution_count": null,
      "outputs": [
        {
          "output_type": "execute_result",
          "data": {
            "text/plain": [
              "array([0])"
            ]
          },
          "metadata": {},
          "execution_count": 111
        }
      ]
    },
    {
      "cell_type": "code",
      "metadata": {
        "id": "GOlWnpR5WaBu"
      },
      "source": [
        "id_to_label = {0: '부정', 1: '긍정'}"
      ],
      "execution_count": null,
      "outputs": []
    },
    {
      "cell_type": "code",
      "metadata": {
        "colab": {
          "base_uri": "https://localhost:8080/"
        },
        "id": "_uic7Z8oVcyC",
        "outputId": "30477574-d227-4e21-ea7b-ef0179f39d5a"
      },
      "source": [
        "# 각 예측 값에 대한 label string\n",
        "for val in y_pred_class:\n",
        "    print(id_to_label[val])"
      ],
      "execution_count": null,
      "outputs": [
        {
          "output_type": "stream",
          "name": "stdout",
          "text": [
            "부정\n"
          ]
        }
      ]
    },
    {
      "cell_type": "code",
      "metadata": {
        "id": "rtC2MFb8elxP"
      },
      "source": [
        "def do_predict(word_to_id, id_to_label, model, string):\n",
        "    tokens = string.split()[:4]\n",
        "    # 입력을 숫자로 변경\n",
        "    infer_input = [word_to_id.get(word, 1) for word in tokens]\n",
        "    print(infer_input)\n",
        "    # numpy array 변환\n",
        "    infer_input += [0] * (4 - len(infer_input))\n",
        "    infer_inputs = np.array([infer_input])\n",
        "    print(infer_inputs)\n",
        "    # 부정(0), 긍정(1) 추론\n",
        "    y_preds = model.predict(infer_inputs)\n",
        "    print(y_preds)\n",
        "    # 확률의 max 값을 추론 값으로 결정\n",
        "    y_pred_class = np.argmax(y_preds, axis=-1)[0]\n",
        "    print(y_pred_class)\n",
        "    # print(tokens)\n",
        "    return id_to_label[y_pred_class]"
      ],
      "execution_count": null,
      "outputs": []
    },
    {
      "cell_type": "code",
      "metadata": {
        "colab": {
          "base_uri": "https://localhost:8080/",
          "height": 105
        },
        "id": "1uRu_hhSZjSB",
        "outputId": "363718e4-9998-44c7-edfd-5a8db68b04b7"
      },
      "source": [
        "do_predict(word_to_id, id_to_label, model, string)"
      ],
      "execution_count": null,
      "outputs": [
        {
          "output_type": "stream",
          "name": "stdout",
          "text": [
            "[2, 3, 8, 10]\n",
            "[[ 2  3  8 10]]\n",
            "[[0.5020876  0.49791244]]\n",
            "0\n"
          ]
        },
        {
          "output_type": "execute_result",
          "data": {
            "application/vnd.google.colaboratory.intrinsic+json": {
              "type": "string"
            },
            "text/plain": [
              "'부정'"
            ]
          },
          "metadata": {},
          "execution_count": 115
        }
      ]
    },
    {
      "cell_type": "code",
      "metadata": {
        "colab": {
          "base_uri": "https://localhost:8080/"
        },
        "id": "RIupLhvxelxP",
        "outputId": "806e449f-2c58-4b08-d6a7-00c80a8c578e"
      },
      "source": [
        "# 신차 연비 좋아요, 엉터리로 개발했네요 등\n",
        "while True:\n",
        "    print('input >> ', end='')\n",
        "    string = input()\n",
        "    string = string.strip()\n",
        "    if not string:\n",
        "        break\n",
        "    result = do_predict(word_to_id, id_to_label, model, string)\n",
        "    print(result)"
      ],
      "execution_count": null,
      "outputs": [
        {
          "name": "stdout",
          "output_type": "stream",
          "text": [
            "input >> 신차 연비 좋아요\n",
            "[2, 9, 4]\n",
            "[[2 9 4 0]]\n",
            "[[0.49353707 0.50646293]]\n",
            "1\n",
            "긍정\n",
            "input >> 엉터리로 개발했네요\n",
            "[10, 11]\n",
            "[[10 11  0  0]]\n",
            "[[0.48270682 0.5172932 ]]\n",
            "1\n",
            "긍정\n",
            "input >> \n"
          ]
        }
      ]
    },
    {
      "cell_type": "code",
      "metadata": {
        "id": "Xg7oAoNjWf1W"
      },
      "source": [],
      "execution_count": null,
      "outputs": []
    }
  ]
}